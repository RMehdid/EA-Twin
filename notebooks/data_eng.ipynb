{
 "cells": [
  {
   "cell_type": "markdown",
   "id": "6e01bb49",
   "metadata": {},
   "source": [
    "# Data Engineering"
   ]
  },
  {
   "cell_type": "markdown",
   "id": "8369f0b9",
   "metadata": {},
   "source": [
    "## OneHotEncoder\n",
    "we use one hot encoder to transform useless 'position' column into numirical data to be used in our mode.\n",
    "we achieve that by spliting the column into other columns (each possible value of position) where the respective value for a player should be 1, other non related position values will take value 0."
   ]
  },
  {
   "cell_type": "code",
   "execution_count": 3,
   "id": "9e6ca96c",
   "metadata": {},
   "outputs": [],
   "source": [
    "import pandas as pd\n",
    "from sklearn.preprocessing import OneHotEncoder\n",
    "from sklearn.compose import ColumnTransformer\n",
    "from sklearn.pipeline import Pipeline"
   ]
  },
  {
   "cell_type": "code",
   "execution_count": 4,
   "id": "8957d20f",
   "metadata": {},
   "outputs": [],
   "source": [
    "#load the data\n",
    "file_path = '../data/cleaned.xlsx'\n",
    "df = pd.read_excel(file_path)"
   ]
  },
  {
   "cell_type": "markdown",
   "id": "7c748a0a",
   "metadata": {},
   "source": [
    "## Create Composite Features"
   ]
  },
  {
   "cell_type": "code",
   "execution_count": 17,
   "id": "311d3c07",
   "metadata": {},
   "outputs": [],
   "source": [
    "# Clean column names to remove unwanted characters\n",
    "df.columns = df.columns.str.replace(r'\\s+', ' ', regex=True).str.strip()\n",
    "\n",
    "# Calculate the Offensive_Index\n",
    "df['Offensive_Index'] = (\n",
    "    df['Shots per game'] +\n",
    "    df['Dribbles per game'] +\n",
    "    df['Key passes per game']\n",
    ")\n",
    "df['Offensive_Index'] = df['Offensive_Index'].round(1)\n",
    "\n",
    "df.drop(columns=['Shots per game', 'Dribbles per game', 'Key passes per game'], inplace=True)"
   ]
  },
  {
   "cell_type": "markdown",
   "id": "93a5d139",
   "metadata": {},
   "source": []
  },
  {
   "cell_type": "code",
   "execution_count": 18,
   "id": "1543eed4",
   "metadata": {},
   "outputs": [],
   "source": [
    "df['Passing_Index'] = (\n",
    "    df['Passes per game'] * df['Pass success percentage'] / 100\n",
    ")\n",
    "df['Passing_Index'] = df['Passing_Index'].round(1)\n",
    "df.drop(columns=['Passes per game', 'Pass success percentage'], inplace=True)"
   ]
  },
  {
   "cell_type": "code",
   "execution_count": 19,
   "id": "6c78b96f",
   "metadata": {},
   "outputs": [],
   "source": [
    "df['Possession_Risk'] = (\n",
    "    df['Dispossessed per game'] + df['Bad control per game']\n",
    ")\n",
    "df['Possession_Risk'] = df['Possession_Risk'].round(1)\n",
    "\n",
    "df.drop(columns=['Dispossessed per game', 'Bad control per game'], inplace=True)"
   ]
  },
  {
   "cell_type": "code",
   "execution_count": 21,
   "id": "3460151e",
   "metadata": {},
   "outputs": [],
   "source": [
    "df['Defensive_Index'] = (\n",
    "    df['Tackles'] +\n",
    "    df['Interceptions per game'] +\n",
    "    df['Clearances per game'] +\n",
    "    df['Aerials Won per game']\n",
    ")\n",
    "df['Defensive_Index'] = df['Defensive_Index'].round(1)\n",
    "df.drop(columns=['Tackles', 'Interceptions per game', 'Clearances per game', 'Aerials Won per game'], inplace=True)"
   ]
  },
  {
   "cell_type": "code",
   "execution_count": 22,
   "id": "0fb33dd4",
   "metadata": {},
   "outputs": [],
   "source": [
    "df['Creativity_Index'] = (\n",
    "    df['Assists'] +\n",
    "    df['Through balls per game'] +\n",
    "    df['Crosses']\n",
    ")\n",
    "df['Creativity_Index'] = df['Creativity_Index'].round(1)\n",
    "df.drop(columns=['Assists', 'Through balls per game', 'Crosses'], inplace=True)"
   ]
  },
  {
   "cell_type": "code",
   "execution_count": 23,
   "id": "53329705",
   "metadata": {},
   "outputs": [],
   "source": [
    "df['Attacking_Efficiency'] = df['Goals'] / (df['Apps'] + 1)\n",
    "df['Attacking_Efficiency'] = df['Attacking_Efficiency'].round(1)\n",
    "df.drop(columns=['Goals', 'Apps'], inplace=True)"
   ]
  },
  {
   "cell_type": "code",
   "execution_count": 24,
   "id": "56504691",
   "metadata": {},
   "outputs": [],
   "source": [
    "df['Discipline_Score'] = (\n",
    "    df['Fouls'] + df['Yel'] + 2 * df['Red']\n",
    ")\n",
    "df['Discipline_Score'] = df['Discipline_Score'].round(1)\n",
    "df.drop(columns=['Fouls', 'Yel', 'Red'], inplace=True)"
   ]
  },
  {
   "cell_type": "code",
   "execution_count": 25,
   "id": "41820d92",
   "metadata": {},
   "outputs": [],
   "source": [
    "df.to_excel('../data/featured.xlsx', index=False)"
   ]
  },
  {
   "cell_type": "code",
   "execution_count": null,
   "id": "aa2c9d89",
   "metadata": {},
   "outputs": [],
   "source": []
  }
 ],
 "metadata": {
  "kernelspec": {
   "display_name": "Python 3",
   "language": "python",
   "name": "python3"
  },
  "language_info": {
   "codemirror_mode": {
    "name": "ipython",
    "version": 3
   },
   "file_extension": ".py",
   "mimetype": "text/x-python",
   "name": "python",
   "nbconvert_exporter": "python",
   "pygments_lexer": "ipython3",
   "version": "3.11.11"
  }
 },
 "nbformat": 4,
 "nbformat_minor": 5
}
