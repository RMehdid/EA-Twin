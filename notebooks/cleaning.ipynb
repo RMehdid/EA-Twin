{
 "cells": [
  {
   "cell_type": "markdown",
   "id": "29a78613",
   "metadata": {},
   "source": [
    "# DATA Cleaning\n",
    "\n",
    "## Dropping NA and duplicates"
   ]
  },
  {
   "cell_type": "code",
   "execution_count": 3,
   "id": "bd3e8479",
   "metadata": {},
   "outputs": [],
   "source": [
    "import pandas as pd"
   ]
  },
  {
   "cell_type": "code",
   "execution_count": 15,
   "id": "9760e494",
   "metadata": {},
   "outputs": [
    {
     "name": "stdout",
     "output_type": "stream",
     "text": [
      "Cleaned dataset saved to ../data/cleaned.xlsx\n"
     ]
    }
   ],
   "source": [
    "# Load the dataset\n",
    "file_path = '../data/original.xlsx'\n",
    "df = pd.read_excel(file_path)\n",
    "\n",
    "# Perform cleaning operations\n",
    "# Example: Drop rows with missing values\n",
    "df_cleaned = df.dropna()\n",
    "\n",
    "# Example: Remove duplicate rows\n",
    "df_cleaned = df_cleaned.drop_duplicates()\n",
    "\n",
    "df_cleaned = df_cleaned.drop(columns=['Name.1'])\n",
    "\n",
    "# Save the cleaned dataset\n",
    "cleaned_file_path = '../data/cleaned.xlsx'\n",
    "df_cleaned.to_excel(cleaned_file_path, index=False)\n",
    "\n",
    "print(f\"Cleaned dataset saved to {cleaned_file_path}\")"
   ]
  },
  {
   "cell_type": "code",
   "execution_count": null,
   "id": "67992db3",
   "metadata": {},
   "outputs": [],
   "source": []
  }
 ],
 "metadata": {
  "kernelspec": {
   "display_name": "Python 3",
   "language": "python",
   "name": "python3"
  },
  "language_info": {
   "codemirror_mode": {
    "name": "ipython",
    "version": 3
   },
   "file_extension": ".py",
   "mimetype": "text/x-python",
   "name": "python",
   "nbconvert_exporter": "python",
   "pygments_lexer": "ipython3",
   "version": "3.11.11"
  }
 },
 "nbformat": 4,
 "nbformat_minor": 5
}
