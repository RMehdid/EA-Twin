{
 "cells": [
  {
   "cell_type": "code",
   "execution_count": 18,
   "id": "f190e18c",
   "metadata": {},
   "outputs": [],
   "source": [
    "import pandas as pd"
   ]
  },
  {
   "cell_type": "code",
   "execution_count": 4,
   "id": "48150703",
   "metadata": {},
   "outputs": [],
   "source": [
    "file_path = '../Cleaned_Data.xlsx'\n",
    "sheets = pd.read_excel(file_path, sheet_name=None)"
   ]
  },
  {
   "cell_type": "code",
   "execution_count": 14,
   "id": "a999bc9b",
   "metadata": {},
   "outputs": [],
   "source": [
    "def add_composite_features(df):\n",
    "    df['finishing'] = df.get('Goals', 0) + df.get('Shots per game', 0)\n",
    "    df['creativity'] = df.get('Assists', 0) + df.get('Key passes per game', 0) + df.get('Through balls per game', 0)\n",
    "    df['distribution'] = df.get('Pass success percentage', 0) + df.get('Crosses', 0)\n",
    "    df['defense'] = df.get('Interceptions per game', 0) + df.get('Clearances per game', 0) + df.get('Outfielder block per game', 0)\n",
    "    df['duels'] = df.get('Aerials won per game', 0) - df.get('Dispossessed per game', 0) - df.get('Bad control per game', 0)\n",
    "\n",
    "    composite_cols = ['finishing', 'creativity', 'distribution', 'defense', 'duels']\n",
    "    df[composite_cols] = df[composite_cols].round(2)\n",
    "    \n",
    "    return df"
   ]
  },
  {
   "cell_type": "code",
   "execution_count": 15,
   "id": "9ef6ac4f",
   "metadata": {},
   "outputs": [],
   "source": [
    "# Apply composite feature engineering to each DataFrame\n",
    "for position in sheets:\n",
    "    sheets[position] = add_composite_features(sheets[position])"
   ]
  },
  {
   "cell_type": "code",
   "execution_count": 16,
   "id": "7efbd6e4",
   "metadata": {},
   "outputs": [],
   "source": [
    "with pd.ExcelWriter('Composite_Features_Output.xlsx') as writer:\n",
    "    for position, df in sheets.items():\n",
    "        df.to_excel(writer, sheet_name=position, index=False)"
   ]
  },
  {
   "cell_type": "code",
   "execution_count": null,
   "id": "974ebf94",
   "metadata": {},
   "outputs": [],
   "source": []
  }
 ],
 "metadata": {
  "kernelspec": {
   "display_name": "Python 3",
   "language": "python",
   "name": "python3"
  },
  "language_info": {
   "codemirror_mode": {
    "name": "ipython",
    "version": 3
   },
   "file_extension": ".py",
   "mimetype": "text/x-python",
   "name": "python",
   "nbconvert_exporter": "python",
   "pygments_lexer": "ipython3",
   "version": "3.11.11"
  }
 },
 "nbformat": 4,
 "nbformat_minor": 5
}
