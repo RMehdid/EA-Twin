{
 "cells": [
  {
   "cell_type": "code",
   "execution_count": 1,
   "id": "f190e18c",
   "metadata": {},
   "outputs": [],
   "source": [
    "import pandas as pd"
   ]
  },
  {
   "cell_type": "code",
   "execution_count": 2,
   "id": "48150703",
   "metadata": {},
   "outputs": [],
   "source": [
    "file_path = '../Cleaned_Data.xlsx'\n",
    "sheets = pd.read_excel(file_path, sheet_name=None)"
   ]
  },
  {
   "cell_type": "code",
   "execution_count": 3,
   "id": "a999bc9b",
   "metadata": {},
   "outputs": [],
   "source": [
    "def add_composite_features(df):\n",
    "    df['finishing'] = df.get('Goals', 0) + df.get('Shots per game', 0)\n",
    "    df['creativity'] = df.get('Assists', 0) + df.get('Key passes per game', 0) + df.get('Through balls per game', 0) + df.get('Dribbles per Game', 0) + df.get('Fouled per Game', 0)\n",
    "    df['distribution'] = df.get('Pass success percentage', 0) + df.get('Crosses', 0)  + df.get('Long balls per game', 0)\n",
    "    df['defense'] = df.get('Interceptions per game', 0) + df.get('Clearances per game', 0) + df.get('Outfielder block per game', 0)\n",
    "    df['duels'] = df.get('Aerials won per game', 0) - df.get('Dispossessed per game', 0) - df.get('Bad control per game', 0)\n",
    "\n",
    "    composite_cols = ['finishing', 'creativity', 'distribution', 'defense', 'duels']\n",
    "    df[composite_cols] = df[composite_cols].round(2)\n",
    "    \n",
    "    return df"
   ]
  },
  {
   "cell_type": "code",
   "execution_count": 4,
   "id": "9ef6ac4f",
   "metadata": {},
   "outputs": [],
   "source": [
    "# Apply composite feature engineering to each DataFrame\n",
    "for position in sheets:\n",
    "    sheets[position] = add_composite_features(sheets[position])"
   ]
  },
  {
   "cell_type": "code",
   "execution_count": 5,
   "id": "7efbd6e4",
   "metadata": {},
   "outputs": [],
   "source": [
    "with pd.ExcelWriter('Composite_Features_Output.xlsx') as writer:\n",
    "    for position, df in sheets.items():\n",
    "        df.to_excel(writer, sheet_name=position, index=False)"
   ]
  },
  {
   "cell_type": "code",
   "execution_count": 12,
   "id": "f1b89075",
   "metadata": {},
   "outputs": [],
   "source": [
    "# Load the sheets\n",
    "file = 'Composite_Features_Output.xlsx'\n",
    "sheets = pd.read_excel(file, sheet_name=None)\n",
    "\n",
    "# Extract sheets\n",
    "df = sheets['Data']\n",
    "def_df = sheets['DEF']\n",
    "mid_df = sheets['MID']\n",
    "off_df = sheets['OFF']\n",
    "\n",
    "# Create sets of player names for each position\n",
    "def_players = set(def_df['Name'])\n",
    "mid_players = set(mid_df['Name'])\n",
    "off_players = set(off_df['Name'])\n",
    "\n",
    "# Create new binary position columns in the general sheet\n",
    "df['DEF'] = df['Name'].apply(lambda x: 1 if x in def_players else 0)\n",
    "df['MID'] = df['Name'].apply(lambda x: 1 if x in mid_players else 0)\n",
    "df['OFF'] = df['Name'].apply(lambda x: 1 if x in off_players else 0)\n",
    "df.drop(columns=['Name', 'Position', 'Player Info '], errors='ignore', inplace=True)\n",
    "# Save the updated general sheet\n",
    "\n",
    "df.to_excel('General_with_Positions.xlsx', index=False)"
   ]
  },
  {
   "cell_type": "code",
   "execution_count": null,
   "id": "38252fee",
   "metadata": {},
   "outputs": [],
   "source": [
    "POSITION_FEATURE_WEIGHTS = {\n",
    "    'OFF': {\n",
    "        'finishing': 3,\n",
    "        'creativity': 3,\n",
    "        'distribution': 1,\n",
    "        'defense': 1,\n",
    "        'duels': 2\n",
    "    },\n",
    "    'MID': {\n",
    "        'finishing': 2,\n",
    "        'creativity': 3,\n",
    "        'distribution': 3,\n",
    "        'defense': 2,\n",
    "        'duels': 2\n",
    "    },\n",
    "    'DEF': {\n",
    "        'finishing': 1,\n",
    "        'creativity': 1,\n",
    "        'distribution': 2,\n",
    "        'defense': 4,\n",
    "        'duels': 3\n",
    "    }\n",
    "}\n",
    "\n",
    "def compute_score(row):\n",
    "    if row.get('off', 0) == 1:\n",
    "        weights = POSITION_FEATURE_WEIGHTS['OFF']\n",
    "    elif row.get('mid', 0) == 1:\n",
    "        weights = POSITION_FEATURE_WEIGHTS['MID']\n",
    "    elif row.get('def', 0) == 1:\n",
    "        weights = POSITION_FEATURE_WEIGHTS['DEF']\n",
    "    else:\n",
    "        weights = {}\n",
    "\n",
    "    score = sum(row.get(feat, 0) * weight for feat, weight in weights.items())\n",
    "    return round(score, 2)\n",
    "\n",
    "\n",
    "df = add_composite_features(df)\n",
    "df['weighted_score'] = df.apply(compute_score, axis=1)"
   ]
  }
 ],
 "metadata": {
  "kernelspec": {
   "display_name": "Python 3",
   "language": "python",
   "name": "python3"
  },
  "language_info": {
   "codemirror_mode": {
    "name": "ipython",
    "version": 3
   },
   "file_extension": ".py",
   "mimetype": "text/x-python",
   "name": "python",
   "nbconvert_exporter": "python",
   "pygments_lexer": "ipython3",
   "version": "3.11.9"
  }
 },
 "nbformat": 4,
 "nbformat_minor": 5
}
